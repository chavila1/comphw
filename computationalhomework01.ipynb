{
  "cells": [
    {
      "cell_type": "markdown",
      "metadata": {
        "id": "view-in-github",
        "colab_type": "text"
      },
      "source": [
        "<a href=\"https://colab.research.google.com/github/chavila1/comphw/blob/main/computationalhomework01.ipynb\" target=\"_parent\"><img src=\"https://colab.research.google.com/assets/colab-badge.svg\" alt=\"Open In Colab\"/></a>"
      ]
    },
    {
      "cell_type": "markdown",
      "metadata": {
        "id": "qByVrJA6Y-mg"
      },
      "source": [
        "# Classical Mechanics I (PHYS 311)\n",
        "## Studio 1"
      ]
    },
    {
      "cell_type": "markdown",
      "metadata": {
        "id": "F08suXK4Y-mm"
      },
      "source": [
        "*Name:*\n",
        "\n",
        "*Date:*"
      ]
    },
    {
      "cell_type": "markdown",
      "metadata": {
        "id": "Xo1TH5E7Y-mm"
      },
      "source": [
        "## Introduction"
      ]
    },
    {
      "cell_type": "markdown",
      "metadata": {
        "id": "UnQmIXe6Y-mn"
      },
      "source": [
        "Most weeks, we'll have a studio exercise in Python Jupyter Notebooks. I assume you'll have set up your accounts before starting this notebook. (If you haven't done this, please see S0 on Canvas for instructions ASAP!)\n",
        "\n",
        "This week we'll start with some notebook basics and some physics basics.\n",
        "\n",
        "**If you're new to Python**, there will be some resources on Canvas to learn the basics. But we'll take things relatively slow so you can learn as you go. There are many many resources, so make sure to take some time to use them if you're having trouble with Python. (There's even **extra credit** available for going through a python quick start course to build your understanding!)\n",
        "\n",
        "**If you're new to Notebooks**, check out [this link](https://www.dataquest.io/blog/jupyter-notebook-tutorial/). A notebook contains cells that can be executed (by hitting `shift+enter`). This can either execute code (here, Python) if the cell type is `code`. Or if you're trying to write an annotation like this one, set the type of cell to `Markdown`, and type in your Markdown and render it with `shift+enter`.\n",
        "\n",
        "It's very useful to know how to use **Markdown** (md) as it's a text formatting standard these days, adopted by most modern platforms. If you're new to it, check out [Google's guide to Markdown]( https://guides.github.com/features/mastering-markdown/). Here's a handy [Cheatsheet](https://www.markdownguide.org/cheat-sheet/).\n",
        "\n",
        "Double click this cell to see the md source \"code\". You can make things **bold**, _italics_, or make things headings by adding N pound signs at the beginning of a line. There are lists and links available. Take a look at the documentation from GitHub above for more info. Remember to re-render the md using `shift+enter`."
      ]
    },
    {
      "cell_type": "markdown",
      "metadata": {
        "id": "4Mkle-O4Y-mo"
      },
      "source": [
        "### Basic Setup"
      ]
    },
    {
      "cell_type": "markdown",
      "metadata": {
        "id": "S9HDGZygY-mp"
      },
      "source": [
        "We're going to need a standard set of python tools for scientific work. An easy shorthand for this is the following line. Execute it and you will find that the notebook loads two very important libraries: `numpy` for numerical tools, and `matplotlib` for plotting and visualization. Click the following cell, and execute (`shift+enter`) it."
      ]
    },
    {
      "cell_type": "code",
      "execution_count": 8,
      "metadata": {
        "colab": {
          "base_uri": "https://localhost:8080/"
        },
        "id": "LjCc6lAsY-mp",
        "outputId": "207e80b6-f741-4fa9-c066-4c38852df608"
      },
      "outputs": [
        {
          "output_type": "stream",
          "name": "stdout",
          "text": [
            "Populating the interactive namespace from numpy and matplotlib\n"
          ]
        },
        {
          "output_type": "stream",
          "name": "stderr",
          "text": [
            "/usr/local/lib/python3.12/dist-packages/IPython/core/magics/pylab.py:159: UserWarning: pylab import has clobbered these variables: ['f']\n",
            "`%matplotlib` prevents importing * from pylab and numpy\n",
            "  warn(\"pylab import has clobbered these variables: %s\"  % clobbered +\n"
          ]
        }
      ],
      "source": [
        "%pylab inline"
      ]
    },
    {
      "cell_type": "markdown",
      "metadata": {
        "id": "yNnEuh8eY-mr"
      },
      "source": [
        "In this class we want to get familiar with Python and Jupyter. First of all familiarize yourself with this notebook. You can enter comments, equations, code, etc. When in a code cell, just hit `enter` to create a new line of code within the same cell. To add a new cell below your current cell, just hit `b` on your keyboard, or navigate through the menus above. Preserve the final code for submission.\n",
        "\n",
        "Try to figure out how to do the following. (Google is your friend!)"
      ]
    },
    {
      "cell_type": "markdown",
      "metadata": {
        "id": "enCBxvmAY-ms"
      },
      "source": [
        "### Python as a calculator"
      ]
    },
    {
      "cell_type": "markdown",
      "metadata": {
        "id": "d-KlzV0BY-ms"
      },
      "source": [
        "1. Calculate 2+2\n",
        "2. Calculate the sin of $\\pi$/2\n",
        "3. Calculate $4.5^4$\n",
        "\n",
        "Compute these below. Make sure the answers to each of these is visible in the output!"
      ]
    },
    {
      "cell_type": "code",
      "execution_count": 9,
      "metadata": {
        "colab": {
          "base_uri": "https://localhost:8080/"
        },
        "id": "HkZXUW9ZY-mt",
        "outputId": "1fe9e093-7a86-4532-c42d-b6345dac6c11"
      },
      "outputs": [
        {
          "output_type": "stream",
          "name": "stdout",
          "text": [
            "4 1.0 410.0625\n"
          ]
        }
      ],
      "source": [
        "a = 2+2\n",
        "b = sin(pi/2)\n",
        "c = 4.5**4\n",
        "\n",
        "print(a,b,c)"
      ]
    },
    {
      "cell_type": "markdown",
      "metadata": {
        "id": "-Yw438ntY-mt"
      },
      "source": [
        "### Storing information in variables / types"
      ]
    },
    {
      "cell_type": "markdown",
      "metadata": {
        "id": "QuEPVOfUY-mt"
      },
      "source": [
        "Python is not a strongly typed programming language -- this is often very convenient but can be dangerous! If you're familiar with C/C++, this will feel pretty different."
      ]
    },
    {
      "cell_type": "code",
      "execution_count": 10,
      "metadata": {
        "id": "t8-npMDvY-mt"
      },
      "outputs": [],
      "source": [
        "a='boom'\n",
        "b='bap'"
      ]
    },
    {
      "cell_type": "code",
      "execution_count": 11,
      "metadata": {
        "colab": {
          "base_uri": "https://localhost:8080/"
        },
        "id": "ypxL6nVCY-mu",
        "outputId": "b0438f59-515f-48cc-e93c-477c361b170e"
      },
      "outputs": [
        {
          "output_type": "stream",
          "name": "stdout",
          "text": [
            "<class 'str'> <class 'str'>\n"
          ]
        }
      ],
      "source": [
        "print( type(a), type(b) )"
      ]
    },
    {
      "cell_type": "markdown",
      "metadata": {
        "id": "z7mzn1lEY-mu"
      },
      "source": [
        "So we can see that python has infered that you wanted `a` and `b` to be `str` (string) objects without you ever having to say it explicitly. You can imagine how this may be dangerous at times."
      ]
    },
    {
      "cell_type": "markdown",
      "metadata": {
        "id": "hQ0S6N87Y-mu"
      },
      "source": [
        "To get documentation for anything in this notebook, just put a question mark in front of it. To learn what `type` does, do the following:"
      ]
    },
    {
      "cell_type": "code",
      "execution_count": 12,
      "metadata": {
        "id": "BPp0Hr-AY-mv"
      },
      "outputs": [],
      "source": [
        "?type"
      ]
    },
    {
      "cell_type": "markdown",
      "metadata": {
        "id": "MY-rP8a4Y-mv"
      },
      "source": [
        "`a` and `b` both contain `str` objects now. Try concatenating them with the `+` operator:"
      ]
    },
    {
      "cell_type": "code",
      "execution_count": 13,
      "metadata": {
        "colab": {
          "base_uri": "https://localhost:8080/",
          "height": 36
        },
        "id": "a8YWyCS7Y-mv",
        "outputId": "c6dddf0e-a142-4f0a-f644-fec3b493ef8d"
      },
      "outputs": [
        {
          "output_type": "execute_result",
          "data": {
            "text/plain": [
              "'boombap'"
            ],
            "application/vnd.google.colaboratory.intrinsic+json": {
              "type": "string"
            }
          },
          "metadata": {},
          "execution_count": 13
        }
      ],
      "source": [
        "a+b"
      ]
    },
    {
      "cell_type": "markdown",
      "metadata": {
        "id": "2BOkwM0rY-mv"
      },
      "source": [
        "Let's try storing some numbers now:"
      ]
    },
    {
      "cell_type": "code",
      "execution_count": 14,
      "metadata": {
        "id": "ClLNd__QY-mv"
      },
      "outputs": [],
      "source": [
        "c=2\n",
        "d=2."
      ]
    },
    {
      "cell_type": "markdown",
      "metadata": {
        "id": "tEQOhO-JY-mw"
      },
      "source": [
        "What are the types of the variables `c` and `d`? Notice that we're in Python 3 (look in the upper right of your window to see the Kernel name). If you're interested, you can learn about some of the differences between Python 2 and 3 w.r.t. how these types are handled."
      ]
    },
    {
      "cell_type": "code",
      "execution_count": 15,
      "metadata": {
        "colab": {
          "base_uri": "https://localhost:8080/"
        },
        "id": "Vr3fkNqDY-mw",
        "outputId": "dca9cb55-f53f-42f3-e72a-aa45e9d83576"
      },
      "outputs": [
        {
          "output_type": "stream",
          "name": "stdout",
          "text": [
            "<class 'int'> <class 'float'>\n"
          ]
        }
      ],
      "source": [
        "print(type(c), type(d))"
      ]
    },
    {
      "cell_type": "markdown",
      "metadata": {
        "id": "rY42y3deY-mw"
      },
      "source": [
        "The first thing we should have gone over is how to add a comment in python. Whenever there is a pound sign, `#` in your python, everything after this symbol is not processed and is a comment. **Comments are very important** when writing code -- both for communicating to others the purpose of the code, and for you to understand your code later, but also from a design perspective, they are crucial for effectively organizing your code."
      ]
    },
    {
      "cell_type": "code",
      "execution_count": 16,
      "metadata": {
        "id": "l2pNlVCUY-mw"
      },
      "outputs": [],
      "source": [
        "a = \"This line isn't commented\" #but this stuff is\n",
        "# And so is this whole line!"
      ]
    },
    {
      "cell_type": "markdown",
      "metadata": {
        "id": "vNFIh6Y3Y-mw"
      },
      "source": [
        "### Lists and Arrays"
      ]
    },
    {
      "cell_type": "code",
      "execution_count": 17,
      "metadata": {
        "colab": {
          "base_uri": "https://localhost:8080/"
        },
        "id": "YDrNmR3MY-mx",
        "outputId": "761ee7e3-4b32-4f84-ddd4-7a1fc9c26d40"
      },
      "outputs": [
        {
          "output_type": "stream",
          "name": "stdout",
          "text": [
            "Populating the interactive namespace from numpy and matplotlib\n"
          ]
        }
      ],
      "source": [
        "%pylab inline"
      ]
    },
    {
      "cell_type": "markdown",
      "metadata": {
        "id": "1XT5ckhzY-mx"
      },
      "source": [
        "We can store multiple objects in a list in python."
      ]
    },
    {
      "cell_type": "code",
      "execution_count": 18,
      "metadata": {
        "colab": {
          "base_uri": "https://localhost:8080/"
        },
        "id": "ZOGnmNnUY-mx",
        "outputId": "0516a76c-e6d0-4992-982a-4f9aa52c5ea6"
      },
      "outputs": [
        {
          "output_type": "stream",
          "name": "stdout",
          "text": [
            "3\n"
          ]
        }
      ],
      "source": [
        "myList=[3,1,4,1,5,9]\n",
        "print(myList[0]) # this will print out the first element of myList"
      ]
    },
    {
      "cell_type": "markdown",
      "metadata": {
        "id": "qzaoH9wTY-mx"
      },
      "source": [
        "Access and print the last element of the list `myList`. Can you figure out a way to do this without a priori knowing how long the list is? (Google is your friend!)"
      ]
    },
    {
      "cell_type": "code",
      "execution_count": 19,
      "metadata": {
        "colab": {
          "base_uri": "https://localhost:8080/"
        },
        "id": "XCs7GNdBY-my",
        "outputId": "2f1cec30-a2fa-4d71-a1e0-906d3c33f986"
      },
      "outputs": [
        {
          "output_type": "stream",
          "name": "stdout",
          "text": [
            "9\n"
          ]
        }
      ],
      "source": [
        "print(myList[-1])"
      ]
    },
    {
      "cell_type": "markdown",
      "metadata": {
        "id": "_V5-tU9JY-my"
      },
      "source": [
        "Now set it to another number and then print out the entire object `myList`."
      ]
    },
    {
      "cell_type": "code",
      "execution_count": 20,
      "metadata": {
        "colab": {
          "base_uri": "https://localhost:8080/"
        },
        "id": "ctTyw17nY-my",
        "outputId": "1fb39426-db08-486d-8a32-b0492b18e7cb"
      },
      "outputs": [
        {
          "output_type": "stream",
          "name": "stdout",
          "text": [
            "1\n",
            "[3, 1, 4, 1, 5, 9]\n"
          ]
        }
      ],
      "source": [
        "print(myList[3])\n",
        "print(myList)"
      ]
    },
    {
      "cell_type": "markdown",
      "metadata": {
        "id": "8JfSYY3UY-my"
      },
      "source": [
        "What is the type of `myList`?"
      ]
    },
    {
      "cell_type": "code",
      "execution_count": 21,
      "metadata": {
        "id": "PrrNslJUY-my"
      },
      "outputs": [],
      "source": [
        "#myList is a list\n",
        "\n",
        "?myList"
      ]
    },
    {
      "cell_type": "markdown",
      "metadata": {
        "id": "7HObVDCEY-my"
      },
      "source": [
        "There is a very similar structure given by `numpy` called the `ndarray` which is an array type. We'll see it shortly."
      ]
    },
    {
      "cell_type": "markdown",
      "metadata": {
        "id": "ZxFJc_bxY-mz"
      },
      "source": [
        "### Plotting data"
      ]
    },
    {
      "cell_type": "markdown",
      "metadata": {
        "id": "cSOyPm-OY-mz"
      },
      "source": [
        "We are loading some libraries that will let us plot things and that will let us do more complicated mathematical things."
      ]
    },
    {
      "cell_type": "code",
      "execution_count": 22,
      "metadata": {
        "colab": {
          "base_uri": "https://localhost:8080/"
        },
        "id": "fm8va4FjY-m7",
        "outputId": "8bdd82f5-0728-4200-b62e-2c648fd8cbca"
      },
      "outputs": [
        {
          "output_type": "stream",
          "name": "stdout",
          "text": [
            "Populating the interactive namespace from numpy and matplotlib\n"
          ]
        }
      ],
      "source": [
        "%pylab inline"
      ]
    },
    {
      "cell_type": "markdown",
      "metadata": {
        "id": "TW_dcPPAY-m8"
      },
      "source": [
        "In python, we plot data points. That means that we need to generate 2 vectors of equal length. One contains the x-values and the second one the y-values."
      ]
    },
    {
      "cell_type": "code",
      "execution_count": 23,
      "metadata": {
        "colab": {
          "base_uri": "https://localhost:8080/"
        },
        "id": "CY0l1GBmY-m8",
        "outputId": "f2778dff-d3de-460a-845e-dcdda283e1e2"
      },
      "outputs": [
        {
          "output_type": "execute_result",
          "data": {
            "text/plain": [
              "[1, 2, 3, 4, 5, 6, 7, 8, 9]"
            ]
          },
          "metadata": {},
          "execution_count": 23
        }
      ],
      "source": [
        "vector_list = list( range(1, 10, 1) )\n",
        "vector_list"
      ]
    },
    {
      "cell_type": "code",
      "execution_count": 24,
      "metadata": {
        "id": "E8IReO6WY-m8"
      },
      "outputs": [],
      "source": [
        "?range"
      ]
    },
    {
      "cell_type": "code",
      "execution_count": 25,
      "metadata": {
        "colab": {
          "base_uri": "https://localhost:8080/"
        },
        "id": "-errZuolY-m9",
        "outputId": "7604424d-acd7-4acd-8f25-585e24c8564e"
      },
      "outputs": [
        {
          "output_type": "execute_result",
          "data": {
            "text/plain": [
              "array([1, 2, 3, 4, 5, 6, 7, 8, 9])"
            ]
          },
          "metadata": {},
          "execution_count": 25
        }
      ],
      "source": [
        "vector_array = arange(1, 10, 1)\n",
        "vector_array"
      ]
    },
    {
      "cell_type": "code",
      "execution_count": 26,
      "metadata": {
        "id": "1pE4LQiXY-m9"
      },
      "outputs": [],
      "source": [
        "?arange"
      ]
    },
    {
      "cell_type": "markdown",
      "metadata": {
        "id": "sCQ0MeVFY-m9"
      },
      "source": [
        "Now we're going to create a custom python function to represent the function we'd like to plot."
      ]
    },
    {
      "cell_type": "code",
      "execution_count": 27,
      "metadata": {
        "id": "HxxYpIKPY-m9"
      },
      "outputs": [],
      "source": [
        "def squared(x):\n",
        "    squared = x*x\n",
        "    return squared"
      ]
    },
    {
      "cell_type": "markdown",
      "metadata": {
        "id": "6hzeS9MFY-m9"
      },
      "source": [
        "You can now use this function `squared()` to square things! Give it a shot by squaring some number:"
      ]
    },
    {
      "cell_type": "code",
      "execution_count": 28,
      "metadata": {
        "colab": {
          "base_uri": "https://localhost:8080/"
        },
        "id": "rjaKZRCWY-m-",
        "outputId": "5adfffa5-e6cc-4820-a244-982a9014c4a9"
      },
      "outputs": [
        {
          "output_type": "execute_result",
          "data": {
            "text/plain": [
              "64"
            ]
          },
          "metadata": {},
          "execution_count": 28
        }
      ],
      "source": [
        "squared(8)"
      ]
    },
    {
      "cell_type": "markdown",
      "metadata": {
        "id": "uJg0hoD9Y-m-"
      },
      "source": [
        "Now we're about to see a crucial difference between python's built-in `list` type and `numpy`'s more powerful `ndarray`. What happens when you try to feed `vector_list` into this new function? What about when you hand it `vector_array`? Find something that works and store it in a new variable."
      ]
    },
    {
      "cell_type": "code",
      "execution_count": 29,
      "metadata": {
        "colab": {
          "base_uri": "https://localhost:8080/"
        },
        "id": "fKYxDBpiY-m-",
        "outputId": "e23f56c3-8812-4286-9b22-e3d235a1e9f4"
      },
      "outputs": [
        {
          "output_type": "execute_result",
          "data": {
            "text/plain": [
              "array([ 1,  4,  9, 16, 25, 36, 49, 64, 81])"
            ]
          },
          "metadata": {},
          "execution_count": 29
        }
      ],
      "source": [
        "# Squared doesn't like vector_list because they aren't integers but it takes vector_array\n",
        "\n",
        "squared(vector_array)"
      ]
    },
    {
      "cell_type": "markdown",
      "metadata": {
        "id": "y3RQPRvcY-m-"
      },
      "source": [
        "We can quickly plot the data points you've just calculated with the `plot` command (provided by pylab). Remember to use `?plot` for more information. Basically, you want to run `plot(x,y)` where your `x` and `y` are array objects (or can be list objects in principle). An optional third argument takes a string that defines the draw style. Try out using `o-` for a circle at each point and a line conecting the points.\n",
        "\n",
        "Don't forget to label your axes. Always always always label axes!!! In the same cell as your plot command, try out the `xlabel()` and `ylabel()` commands.\n",
        "\n",
        "Remember that we're looking for a plot of f(x) on the y axis, and x on the x axis. How should you call the `plot()` function here?"
      ]
    },
    {
      "cell_type": "code",
      "execution_count": 30,
      "metadata": {
        "colab": {
          "base_uri": "https://localhost:8080/",
          "height": 467
        },
        "id": "e1dGQSp6Y-m-",
        "outputId": "e4b77f4f-92df-4991-e76a-8e35e6030c5e"
      },
      "outputs": [
        {
          "output_type": "execute_result",
          "data": {
            "text/plain": [
              "Text(0, 0.5, 'f(x)')"
            ]
          },
          "metadata": {},
          "execution_count": 30
        },
        {
          "output_type": "display_data",
          "data": {
            "text/plain": [
              "<Figure size 640x480 with 1 Axes>"
            ],
            "image/png": "[encoded data removed]"
          },
          "metadata": {}
        }
      ],
      "source": [
        "x = vector_array\n",
        "y = squared(x)\n",
        "plot(x,y,'-o')\n",
        "xlabel('x')\n",
        "ylabel('f(x)')"
      ]
    },
    {
      "cell_type": "markdown",
      "metadata": {
        "id": "4jmsSy9vY-m_"
      },
      "source": [
        "Now go ahead and make a new function that computes the sine of the input, and plot it! (Careful with what you call your new function to make sure it doesn't clash with other already-defined functions!)"
      ]
    },
    {
      "cell_type": "code",
      "execution_count": 31,
      "metadata": {
        "id": "vtcoKSwKY-m_"
      },
      "outputs": [],
      "source": [
        "def sine(x):\n",
        "  sine = sin(x)\n",
        "  return sine"
      ]
    },
    {
      "cell_type": "markdown",
      "metadata": {
        "collapsed": true,
        "id": "BW24q6GmY-m_"
      },
      "source": [
        "Notice that our sampling is quite low (only 10 points). Try playing around to get these functions samples with 100 points to get a higher resolution representation of these functions.\n",
        "\n",
        "Search the `matplotlib` manual and figure out more ways to plot the data. Add a title to the figure!"
      ]
    },
    {
      "cell_type": "markdown",
      "metadata": {
        "id": "hqEVrUGiY-m_"
      },
      "source": [
        "**EC(+0.5) [\"For +0.5 extra credit -- feel free to skip!\"]: Add a cell below this and plot three different functions on the same axis with three different line styles. Make sure to label your axes and draw a legend!**"
      ]
    },
    {
      "cell_type": "code",
      "source": [
        "x = linspace(1, 10, num=100)\n",
        "y1 = sine(x)\n",
        "y2 = squared(x)\n",
        "y3 = x + 2\n",
        "\n",
        "plot(x, y1, '-o')\n",
        "plot(x, y2, '-x')\n",
        "plot(x, y3, '-s')\n",
        "xlabel('x')\n",
        "ylabel('Functions')\n",
        "title('Sine Wave, Squared, Linear')"
      ],
      "metadata": {
        "colab": {
          "base_uri": "https://localhost:8080/",
          "height": 490
        },
        "id": "klCg5Nm5bCL1",
        "outputId": "4bfa51d3-5fe1-4a8e-e400-1aa6757b2382"
      },
      "execution_count": 32,
      "outputs": [
        {
          "output_type": "execute_result",
          "data": {
            "text/plain": [
              "Text(0.5, 1.0, 'Sine Wave, Squared, Linear')"
            ]
          },
          "metadata": {},
          "execution_count": 32
        },
        {
          "output_type": "display_data",
          "data": {
            "text/plain": [
              "<Figure size 640x480 with 1 Axes>"
            ],
            "image/png": "[encoded data removed]"
          },
          "metadata": {}
        }
      ]
    },
    {
      "cell_type": "markdown",
      "metadata": {
        "id": "4JZHjx2zY-m_"
      },
      "source": [
        "### Defining a function"
      ]
    },
    {
      "cell_type": "markdown",
      "metadata": {
        "id": "ogKUXP5XY-nA"
      },
      "source": [
        "Define your own function that converts Fahrenheit into Celsius and show that it works for a few input values."
      ]
    },
    {
      "cell_type": "code",
      "execution_count": 33,
      "metadata": {
        "id": "94Y2026tY-nA"
      },
      "outputs": [],
      "source": [
        "def f_to_c(f):\n",
        "    c = (f - 32) * 5/9\n",
        "    return c"
      ]
    },
    {
      "cell_type": "markdown",
      "metadata": {
        "id": "9ufWYYLcY-nA"
      },
      "source": [
        "### Conditionals"
      ]
    },
    {
      "cell_type": "markdown",
      "metadata": {
        "id": "aHAhnIePY-nA"
      },
      "source": [
        "There are various ways of steering the logic of a program. Remember that fundamentally, a program executes in a logical order. Normally if you were writing a script from scratch, you would read the logic from top to bottom. Notebooks violate this a little bit and allow you to execute things in strange orders, but you should try to organize your thoughts from top to bottom.\n",
        "\n",
        "Let's start with a simple `if` statement. The syntax for such statements is pretty particular in python."
      ]
    },
    {
      "cell_type": "code",
      "execution_count": 34,
      "metadata": {
        "id": "2i4odkXiY-nA"
      },
      "outputs": [],
      "source": [
        "a = True\n",
        "aIsTrue = False\n",
        "if a == True:\n",
        "    aIsTrue = True"
      ]
    },
    {
      "cell_type": "markdown",
      "metadata": {
        "id": "EMgJMkt9Y-nB"
      },
      "source": [
        "Note the whitespace that represents being \"inside\" the `if` statement. Here it's four spaces (and that was acheived by just hitting `tab` on your keyboard). Python doesn't actually care how much whitespace there is, but it *does* care that you stay consistent with your indentation levels."
      ]
    },
    {
      "cell_type": "markdown",
      "metadata": {
        "id": "rzVfHNn0Y-nB"
      },
      "source": [
        "You can also ask about the alternative with `else`, or even additional alternate scenarios with intermediate `elif` commands. (You may be familiar with `else if` in C/C++, but python has a specific symbol for this command.)"
      ]
    },
    {
      "cell_type": "code",
      "execution_count": 35,
      "metadata": {
        "id": "h--tAjM6Y-nB",
        "colab": {
          "base_uri": "https://localhost:8080/"
        },
        "outputId": "aa262210-547e-4ac5-f915-d44fe788a6a6"
      },
      "outputs": [
        {
          "output_type": "stream",
          "name": "stdout",
          "text": [
            "a is zero\n"
          ]
        }
      ],
      "source": [
        "a = 0\n",
        "if a > 0:\n",
        "    description = \"positive\"\n",
        "elif a < 0:\n",
        "    description = \"negative\"\n",
        "else:\n",
        "    description = \"zero\"\n",
        "print(\"a is \" + description)"
      ]
    },
    {
      "cell_type": "markdown",
      "metadata": {
        "id": "SIUPtt6oY-nB"
      },
      "source": [
        "Write a quick function to take in a number grade that returns a string containing the appropriate letter grade A,B,C,D, or F, using the standard grade boundaries. And then test it with a grade. This will be your final course grade. (No - not really.)"
      ]
    },
    {
      "cell_type": "code",
      "execution_count": 36,
      "metadata": {
        "id": "4pM6AWTwY-nB",
        "colab": {
          "base_uri": "https://localhost:8080/"
        },
        "outputId": "3dec8d00-d026-4fb1-a548-912f6e8aa315"
      },
      "outputs": [
        {
          "output_type": "stream",
          "name": "stdout",
          "text": [
            "Grade:77\n",
            "C\n"
          ]
        }
      ],
      "source": [
        "grade = int(input('Grade:'))\n",
        "if grade >= 90:\n",
        "  letter_grade = 'A'\n",
        "elif grade >= 80:\n",
        "  letter_grade = 'B'\n",
        "elif grade >= 70:\n",
        "  letter_grade = 'C'\n",
        "elif grade >= 60:\n",
        "  letter_grade = 'D'\n",
        "else:\n",
        "  letter_grade = 'F'\n",
        "print(letter_grade)"
      ]
    },
    {
      "cell_type": "markdown",
      "metadata": {
        "id": "4XLptK1zY-nC"
      },
      "source": [
        "### Loops"
      ]
    },
    {
      "cell_type": "markdown",
      "metadata": {
        "id": "I5j2vURBY-nC"
      },
      "source": [
        "#### The for-loop"
      ]
    },
    {
      "cell_type": "markdown",
      "metadata": {
        "id": "8qDB3sSMY-nC"
      },
      "source": [
        "There are two ways to make the computer do things repeatedly. The first one we will discuss is the for-loop."
      ]
    },
    {
      "cell_type": "code",
      "execution_count": 37,
      "metadata": {
        "id": "Y8Gcv-ntY-nC"
      },
      "outputs": [],
      "source": [
        "vector1 = arange(1,10,0.5)\n",
        "vector2 = arange(1,10,0.5)\n",
        "for i in range(len(vector1)):\n",
        "    vector2[i] = vector1[i]*vector1[i]"
      ]
    },
    {
      "cell_type": "code",
      "execution_count": 38,
      "metadata": {
        "id": "vwyS5RiJY-nC",
        "colab": {
          "base_uri": "https://localhost:8080/",
          "height": 448
        },
        "outputId": "deac49b5-7176-4e90-e71d-ddc9d072d628"
      },
      "outputs": [
        {
          "output_type": "execute_result",
          "data": {
            "text/plain": [
              "[<matplotlib.lines.Line2D at 0x7ff8b022fef0>]"
            ]
          },
          "metadata": {},
          "execution_count": 38
        },
        {
          "output_type": "display_data",
          "data": {
            "text/plain": [
              "<Figure size 640x480 with 1 Axes>"
            ],
            "image/png": "[encoded data removed]"
          },
          "metadata": {}
        }
      ],
      "source": [
        "plot(vector1,vector2)"
      ]
    },
    {
      "cell_type": "markdown",
      "metadata": {
        "id": "9VNG61B-Y-nD"
      },
      "source": [
        "#### The while loop"
      ]
    },
    {
      "cell_type": "markdown",
      "metadata": {
        "id": "AVysUCNQY-nD"
      },
      "source": [
        "Look it up. It's a dangerous loop. We hopefully won't need it in this class, but it's important for you to know about. Essentially it repeats its contents until it's argument is false. (Just like in other languages.)"
      ]
    },
    {
      "cell_type": "markdown",
      "metadata": {
        "id": "faJEaF5wY-nD"
      },
      "source": [
        "### Reading data"
      ]
    },
    {
      "cell_type": "markdown",
      "metadata": {
        "id": "k9kUdoZ-Y-nD"
      },
      "source": [
        "Download the data file 'http://folk.uio.no/malthe/mechbook/100m.d ' and copy into the variable `data`. I suggest that you make an extra folder in your home directory called `data` and put this file in there. You'll use the `loadtxt` function which you should give the path to this new file relative to the location of this notebook."
      ]
    },
    {
      "cell_type": "code",
      "execution_count": 39,
      "metadata": {
        "id": "yJMDkV90Y-nE"
      },
      "outputs": [],
      "source": [
        "data = loadtxt('100m.d')"
      ]
    },
    {
      "cell_type": "code",
      "execution_count": 40,
      "metadata": {
        "id": "5XuMvqSyY-nE",
        "colab": {
          "base_uri": "https://localhost:8080/"
        },
        "outputId": "03d5d5db-e42b-4673-8197-2783915d9aaf"
      },
      "outputs": [
        {
          "output_type": "execute_result",
          "data": {
            "text/plain": [
              "array([[ 0.0000000e+00, -2.1155775e-01],\n",
              "       [ 1.0000000e-02, -1.7485406e-01],\n",
              "       [ 2.0000000e-02, -1.3798607e-01],\n",
              "       ...,\n",
              "       [ 9.6800000e+00,  9.9487543e+01],\n",
              "       [ 9.6900000e+00,  9.9573488e+01],\n",
              "       [ 9.7000000e+00,  9.9659050e+01]])"
            ]
          },
          "metadata": {},
          "execution_count": 40
        }
      ],
      "source": [
        "data"
      ]
    },
    {
      "cell_type": "markdown",
      "metadata": {
        "id": "a0XDczrjY-nE"
      },
      "source": [
        "Explore the data variable that you generated. How many data points are in this file?"
      ]
    },
    {
      "cell_type": "code",
      "execution_count": 41,
      "metadata": {
        "id": "yMvZJAXYY-nE",
        "colab": {
          "base_uri": "https://localhost:8080/"
        },
        "outputId": "7b9abab1-6f9a-40c3-8050-798bf65c5c9f"
      },
      "outputs": [
        {
          "output_type": "stream",
          "name": "stdout",
          "text": [
            "971\n"
          ]
        }
      ],
      "source": [
        "with open('100m.d', 'r') as file:\n",
        "  file = file.readlines()\n",
        "  print(len(file))"
      ]
    },
    {
      "cell_type": "markdown",
      "metadata": {
        "id": "9gia9mAUY-nE"
      },
      "source": [
        "Now it's important to know how to access different elements of an array like this. Here we have $N$ elements (where $N$ is the answer directly above) of our dataset, with each element being an array of two numbers. If I want to only take the first 10 elements, I can use the notation `data[0:10]` and that returns the subset. I could have also left the `0` implicit with just a `data[:10]`. If you want from the 10th element to the end, you could do `data[10:len(data)]`. Again you could have left the end implicit and it would have gone to the end with `data[10:]`. Try it -- get the 10th through 20th element (including the 20th) of this array:"
      ]
    },
    {
      "cell_type": "code",
      "execution_count": 42,
      "metadata": {
        "id": "Y1u3bekZY-nE",
        "colab": {
          "base_uri": "https://localhost:8080/"
        },
        "outputId": "152e7e7b-6e87-4813-98a6-f4056fea72a5"
      },
      "outputs": [
        {
          "output_type": "execute_result",
          "data": {
            "text/plain": [
              "array([[0.1       , 0.16296172],\n",
              "       [0.11      , 0.20134194],\n",
              "       [0.12      , 0.23989394],\n",
              "       [0.13      , 0.27861852],\n",
              "       [0.14      , 0.31751645],\n",
              "       [0.15      , 0.3565885 ],\n",
              "       [0.16      , 0.39583542],\n",
              "       [0.17      , 0.435258  ],\n",
              "       [0.18      , 0.47485702],\n",
              "       [0.19      , 0.51463331],\n",
              "       [0.2       , 0.5545876 ]])"
            ]
          },
          "metadata": {},
          "execution_count": 42
        }
      ],
      "source": [
        "data[10:21]"
      ]
    },
    {
      "cell_type": "markdown",
      "metadata": {
        "id": "7MF0HmUJY-nF"
      },
      "source": [
        "You should have 11 elements in this array. Do you? If not, try again."
      ]
    },
    {
      "cell_type": "markdown",
      "metadata": {
        "id": "qTfcv7COY-nF"
      },
      "source": [
        "You might say -- \"Oh but how do I deal with the internal array contained in each element?\" and that would be very astute of you. Luckily for you and for us all (I'm getting loopy because it's a Friday night) `numpy` gives a handy way of accessing this with a comma.\n",
        "\n",
        "If I want an array with just the first number in the first ten elements of `data`, I could do `data[:10,0]`. Give it a shot! I can also ask for the first element of all of the elements: `data[:,0]` (here leaving both the start and end of the first index implicit).\n",
        "\n",
        "Just to be explicit, `data[:10,0]` (or equally `data[0:10,0]`) would mean \"take the first 11 elements of `data`, each of which is another array, then only give me the first element of each of *those*\". The output should be an 11-element 1D array, whereas the input is a 2D array (it needs two indices to get to a single value).\n",
        "\n",
        "Below, get an array containing just the second number in each of these data points:"
      ]
    },
    {
      "cell_type": "code",
      "execution_count": 43,
      "metadata": {
        "id": "YNrfwrBKY-nF",
        "colab": {
          "base_uri": "https://localhost:8080/"
        },
        "outputId": "30056a24-e1cd-4ac6-df48-c0f90246bfac"
      },
      "outputs": [
        {
          "output_type": "execute_result",
          "data": {
            "text/plain": [
              "array([0.16296172, 0.20134194, 0.23989394, 0.27861852, 0.31751645,\n",
              "       0.3565885 , 0.39583542, 0.435258  , 0.47485702, 0.51463331,\n",
              "       0.5545876 ])"
            ]
          },
          "metadata": {},
          "execution_count": 43
        }
      ],
      "source": [
        "data[10:21,1]"
      ]
    },
    {
      "cell_type": "markdown",
      "metadata": {
        "id": "XmwbaW-wY-nF"
      },
      "source": [
        "Plot all the data that you downloaded. Let's treat the first column as the x axis values, and the second as the y axis values."
      ]
    },
    {
      "cell_type": "code",
      "execution_count": 44,
      "metadata": {
        "id": "60eFvSC2Y-nG",
        "colab": {
          "base_uri": "https://localhost:8080/",
          "height": 490
        },
        "outputId": "a02f3a3a-e8d1-4044-f40e-9d26a9fadb90"
      },
      "outputs": [
        {
          "output_type": "execute_result",
          "data": {
            "text/plain": [
              "Text(0, 0.5, 'y')"
            ]
          },
          "metadata": {},
          "execution_count": 44
        },
        {
          "output_type": "display_data",
          "data": {
            "text/plain": [
              "<Figure size 640x480 with 1 Axes>"
            ],
            "image/png": "[encoded data removed]"
          },
          "metadata": {}
        }
      ],
      "source": [
        "x = data[:,0]\n",
        "y = data[:,1]\n",
        "plot(x,y)\n",
        "title('Downloaded File Data')\n",
        "xlabel('x')\n",
        "ylabel('y')"
      ]
    },
    {
      "cell_type": "markdown",
      "metadata": {
        "id": "da-q2RDTY-nG"
      },
      "source": [
        "### Numerical Derivatives"
      ]
    },
    {
      "cell_type": "markdown",
      "metadata": {
        "id": "KCravqT2Y-nG"
      },
      "source": [
        "We discussed how position $x(t)$, velocity $v(t)$ and acceleration are related.\n",
        "$$v(t) = \\frac{\\hbox{d} x(t)}{\\hbox{d} t}~,$$\n",
        "$$ a(t) = \\frac{\\hbox{d} v(t)}{\\hbox{d} t}~.$$\n",
        "In textbook problems, we can simply take the derivative but for the data that we just plotted we need to take a numerical derivative. Calculate the numerical derivative for the data that we imported."
      ]
    },
    {
      "cell_type": "code",
      "execution_count": 45,
      "metadata": {
        "id": "Efcv_AXDY-nG"
      },
      "outputs": [],
      "source": [
        "def derivative(data_array):\n",
        "    delta_x = 0.\n",
        "    delta_t = 0.\n",
        "    derivative_array = zeros(len(data_array))\n",
        "    for i in range(len(data_array)-1):\n",
        "        delta_x = data[i+1,1]-data[i,1]\n",
        "        delta_t = data[i+1,0]-data[i,0]\n",
        "        derivative_array[i] = delta_x/delta_t\n",
        "\n",
        "\n",
        "    return derivative_array"
      ]
    },
    {
      "cell_type": "markdown",
      "metadata": {
        "id": "WUcn96QiY-nG"
      },
      "source": [
        "Take the derivative of the data you plotted from the last section. Let's interpret that data as the position (`data[:,1]`) as a function of the sampling times (`data[:,0]`). So the plot you made above is position (y-axis) as a function of time (x-axis). Find an array containing the velocity as a function of time."
      ]
    },
    {
      "cell_type": "code",
      "execution_count": 46,
      "metadata": {
        "id": "WH2I1-LyY-nH"
      },
      "outputs": [],
      "source": [
        "newy = derivative(data[:,1])"
      ]
    },
    {
      "cell_type": "markdown",
      "metadata": {
        "id": "S8fUfwgXY-nH"
      },
      "source": [
        "Great! Now that you have a new array containing the derivative, **let's plot that**! Then we should be looking at the *velocity* of this object! Remember that the derivative will be a new set of y values, but you should be able to plot against the same original x values (`data[:,0]`)."
      ]
    },
    {
      "cell_type": "code",
      "execution_count": 47,
      "metadata": {
        "id": "_e3GKpo-Y-nH",
        "colab": {
          "base_uri": "https://localhost:8080/",
          "height": 490
        },
        "outputId": "a7ce32d7-1e33-47fd-946f-f2fac47d3685"
      },
      "outputs": [
        {
          "output_type": "execute_result",
          "data": {
            "text/plain": [
              "Text(0, 0.5, 'Velocity')"
            ]
          },
          "metadata": {},
          "execution_count": 47
        },
        {
          "output_type": "display_data",
          "data": {
            "text/plain": [
              "<Figure size 640x480 with 1 Axes>"
            ],
            "image/png": "[encoded data removed]"
          },
          "metadata": {}
        }
      ],
      "source": [
        "x = data[:,0]\n",
        "y = derivative(data[:,1])\n",
        "plot(x,y)\n",
        "title('Velocity vs. Time')\n",
        "xlabel('Time')\n",
        "ylabel('Velocity')"
      ]
    },
    {
      "cell_type": "markdown",
      "metadata": {
        "id": "YaVTLZcGY-nH"
      },
      "source": [
        "Try plotting both the original values (the position) and the first derivative (the velocity) on the same plot!"
      ]
    },
    {
      "cell_type": "code",
      "execution_count": 48,
      "metadata": {
        "id": "mhFDKRnHY-nI",
        "colab": {
          "base_uri": "https://localhost:8080/",
          "height": 490
        },
        "outputId": "fbce5bf8-9f60-4953-c7cc-87829d2a4846"
      },
      "outputs": [
        {
          "output_type": "execute_result",
          "data": {
            "text/plain": [
              "Text(0, 0.5, 'Position and Velocity')"
            ]
          },
          "metadata": {},
          "execution_count": 48
        },
        {
          "output_type": "display_data",
          "data": {
            "text/plain": [
              "<Figure size 640x480 with 1 Axes>"
            ],
            "image/png": "[encoded data removed]"
          },
          "metadata": {}
        }
      ],
      "source": [
        "x = data[:,0]\n",
        "y1 = data[:,1]\n",
        "y2 = derivative(data[:,1])\n",
        "\n",
        "\n",
        "plot(x,y1)\n",
        "plot(x,y2)\n",
        "title('Velocity vs. Time')\n",
        "xlabel('Time')\n",
        "ylabel('Position and Velocity')\n"
      ]
    },
    {
      "cell_type": "markdown",
      "metadata": {
        "id": "W2z0v2OYY-nI"
      },
      "source": [
        "**EC(+0.5): If you have time at the end, come back here and try to show (numerically) how the exponential function `exp(x)` is related to its derivative.**"
      ]
    },
    {
      "cell_type": "markdown",
      "metadata": {
        "id": "YUSSWrTjY-nI"
      },
      "source": [
        "### Riemann Integral"
      ]
    },
    {
      "cell_type": "markdown",
      "metadata": {
        "id": "BnzYxo6_Y-nI"
      },
      "source": [
        "In addition to numerical differentiation, let's also try a numerical integral. Remember that an integral is just the area under a curve. So you'll remember that there are geometrical methods to arrive at numerical approximations for integrals -- and this is what's done in practice in computation a lot. So let's use a simple Riemannian method of adding rectangles together."
      ]
    },
    {
      "cell_type": "code",
      "execution_count": 49,
      "metadata": {
        "scrolled": true,
        "id": "sEOBjYrgY-nJ",
        "colab": {
          "base_uri": "https://localhost:8080/",
          "height": 470
        },
        "outputId": "5f2d0368-1f0a-4f35-f341-28de99128f48"
      },
      "outputs": [
        {
          "output_type": "execute_result",
          "data": {
            "text/plain": [
              "Text(0.5, 1.0, 'Left Riemann Sum, N = 100')"
            ]
          },
          "metadata": {},
          "execution_count": 49
        },
        {
          "output_type": "display_data",
          "data": {
            "text/plain": [
              "<Figure size 640x480 with 1 Axes>"
            ],
            "image/png": "[encoded data removed]"
          },
          "metadata": {}
        }
      ],
      "source": [
        "def f(x):\n",
        "    return x\n",
        "\n",
        "\n",
        "rangeStart = 0; rangeEnd = 10; nRectangles = 100\n",
        "nSmooth = 10*nRectangles # for drawing a (seemingly) smooth curve.\n",
        "\n",
        "# This will give us a very coarse sampling of this function -> a bunch of rectangles with\n",
        "# width (rangeEnd-rangeStart)/nRectangles\n",
        "\n",
        "x = linspace(rangeStart,rangeEnd,nRectangles+1)\n",
        "y = f(x)\n",
        "w = (rangeEnd-rangeStart)/nRectangles\n",
        "\n",
        "# This will give us the data point for our continuous version of the function. Let's say this is\n",
        "# Effectively infinitly sampled.\n",
        "\n",
        "X = linspace(rangeStart,rangeEnd,nSmooth+1)\n",
        "Y = f(X)\n",
        "\n",
        "# This plots the \"true\" function.\n",
        "plot(X,Y)\n",
        "\n",
        "# This shows the markers\n",
        "plot(x,y,'b.',markersize=10)\n",
        "\n",
        "# This will show the actual rectangle's we'll use in approximating this integral.\n",
        "bar(x,y,width=w,alpha=0.2,align='edge',edgecolor='b')\n",
        "\n",
        "title('Left Riemann Sum, N = {}'.format(nRectangles))"
      ]
    },
    {
      "cell_type": "markdown",
      "metadata": {
        "id": "4KlaRkHzY-nJ"
      },
      "source": [
        "If we want to take the integral, we just need to sum up the areas of those rectangles. (Notice, we should remove the last one if we're looking for the integral between 0 and 10 here. We can do that using a negative syntax. While `x[:]` will return all of `x`, if you do `x[:-1]` it'll give all of `x` except the last element. `x[:-2]` gives all but the last two, etc etc etc.)"
      ]
    },
    {
      "cell_type": "code",
      "execution_count": 50,
      "metadata": {
        "id": "zkKGJ_FJY-nJ",
        "colab": {
          "base_uri": "https://localhost:8080/"
        },
        "outputId": "9929427b-0f35-4eb6-98bf-9bf555cb7832"
      },
      "outputs": [
        {
          "output_type": "execute_result",
          "data": {
            "text/plain": [
              "np.float64(49.50000000000001)"
            ]
          },
          "metadata": {},
          "execution_count": 50
        }
      ],
      "source": [
        "def integrate(heights, width): #give it an array of heights and then a single float with the width of each rectangle.\n",
        "    arrayOfAreas = heights*width # This is a number times an array, so it returns an array\n",
        "    return sum(arrayOfAreas) # This sums over these elements to give a number as an output.\n",
        "\n",
        "integrate(x[:-1],w)"
      ]
    },
    {
      "cell_type": "markdown",
      "metadata": {
        "id": "z6uof3hyY-nJ"
      },
      "source": [
        "This `integrate` function is adding together areas of rectangles. And you can see in the region between 0 and 10, the rectangles miss a little bit (that white triangle at the top). So we expect this number to **underestimate** the correct answer. On paper, analytically calculate the correct answer for this function between 0 and 10. How does it compare to this answer?"
      ]
    },
    {
      "cell_type": "code",
      "execution_count": 51,
      "metadata": {
        "id": "W8BAzrS4Y-nK"
      },
      "outputs": [],
      "source": [
        "# The actual value is 50 which is, as expect, less than the functions answer."
      ]
    },
    {
      "cell_type": "markdown",
      "metadata": {
        "id": "DPm9dg_4Y-nK"
      },
      "source": [
        "Now try playing with the `nRectangles` parameter above to see what raising and lowering it does to the integral. (Remember that you can go back up and edit and re-execute cells.)"
      ]
    },
    {
      "cell_type": "code",
      "execution_count": 52,
      "metadata": {
        "id": "gNR7FrGNY-nK"
      },
      "outputs": [],
      "source": [
        "# The higher the number of rectangles, the more accurate the function becomes."
      ]
    },
    {
      "cell_type": "markdown",
      "metadata": {
        "id": "12XUfZsoY-nK"
      },
      "source": [
        "**EC(+0.5): If you still have time, try this again with a function and interval of your choice. Take any function, and approximate its integral in some range of your choosing.**"
      ]
    },
    {
      "cell_type": "code",
      "source": [
        "def f(x):\n",
        "  f = x*x\n",
        "  return f\n",
        "\n",
        "\n",
        "rangeStart = 0; rangeEnd = 14; nRectangles = 20\n",
        "nSmooth = 10*nRectangles # for drawing a (seemingly) smooth curve.\n",
        "\n",
        "# This will give us a very coarse sampling of this function -> a bunch of rectangles with\n",
        "# width (rangeEnd-rangeStart)/nRectangles\n",
        "\n",
        "x = linspace(rangeStart,rangeEnd,nRectangles+1)\n",
        "y = f(x)\n",
        "w = (rangeEnd-rangeStart)/nRectangles\n",
        "\n",
        "# This will give us the data point for our continuous version of the function. Let's say this is\n",
        "# Effectively infinitly sampled.\n",
        "\n",
        "X = linspace(rangeStart,rangeEnd,nSmooth+1)\n",
        "Y = f(X)\n",
        "\n",
        "# This plots the \"true\" function.\n",
        "plot(X,Y)\n",
        "\n",
        "# This shows the markers\n",
        "plot(x,y,'b.',markersize=10)\n",
        "\n",
        "# This will show the actual rectangle's we'll use in approximating this integral.\n",
        "bar(x,y,width=w,alpha=0.2,align='edge',edgecolor='b')\n",
        "\n",
        "title('Left Riemann Sum, N = {}'.format(nRectangles))"
      ],
      "metadata": {
        "colab": {
          "base_uri": "https://localhost:8080/",
          "height": 470
        },
        "id": "5YLGPkXzuIpa",
        "outputId": "551fbd31-0bd7-4b08-e135-188e77dc36c1"
      },
      "execution_count": 64,
      "outputs": [
        {
          "output_type": "execute_result",
          "data": {
            "text/plain": [
              "Text(0.5, 1.0, 'Left Riemann Sum, N = 20')"
            ]
          },
          "metadata": {},
          "execution_count": 64
        },
        {
          "output_type": "display_data",
          "data": {
            "text/plain": [
              "<Figure size 640x480 with 1 Axes>"
            ],
            "image/png": "[encoded data removed]"
          },
          "metadata": {}
        }
      ]
    },
    {
      "cell_type": "code",
      "source": [
        "def integrate(heights, width): #give it an array of heights and then a single float with the width of each rectangle.\n",
        "    arrayOfAreas = heights*width # This is a number times an array, so it returns an array\n",
        "    return sum(arrayOfAreas) # This sums over these elements to give a number as an output.\n",
        "\n",
        "integrate(x[:-1],w)"
      ],
      "metadata": {
        "colab": {
          "base_uri": "https://localhost:8080/"
        },
        "id": "eGeKosyFvr-d",
        "outputId": "134c2a7c-dc60-4da7-e256-e33e08d72b7f"
      },
      "execution_count": 60,
      "outputs": [
        {
          "output_type": "execute_result",
          "data": {
            "text/plain": [
              "np.float64(48.529411764705884)"
            ]
          },
          "metadata": {},
          "execution_count": 60
        }
      ]
    }
  ],
  "metadata": {
    "interpreter": {
      "hash": "9deafd394aff8b6cb6c0144de6e8b26f30e2c4e8480b925f227d21668087d7c6"
    },
    "kernelspec": {
      "display_name": "Python 3",
      "language": "python",
      "name": "python3"
    },
    "language_info": {
      "codemirror_mode": {
        "name": "ipython",
        "version": 3
      },
      "file_extension": ".py",
      "mimetype": "text/x-python",
      "name": "python",
      "nbconvert_exporter": "python",
      "pygments_lexer": "ipython3",
      "version": "3.8.8"
    },
    "toc": {
      "base_numbering": 1,
      "nav_menu": {},
      "number_sections": true,
      "sideBar": true,
      "skip_h1_title": false,
      "title_cell": "Table of Contents",
      "title_sidebar": "Contents",
      "toc_cell": false,
      "toc_position": {},
      "toc_section_display": true,
      "toc_window_display": false
    },
    "varInspector": {
      "cols": {
        "lenName": 16,
        "lenType": 16,
        "lenVar": 40
      },
      "kernels_config": {
        "python": {
          "delete_cmd_postfix": "",
          "delete_cmd_prefix": "del ",
          "library": "var_list.py",
          "varRefreshCmd": "print(var_dic_list())"
        },
        "r": {
          "delete_cmd_postfix": ") ",
          "delete_cmd_prefix": "rm(",
          "library": "var_list.r",
          "varRefreshCmd": "cat(var_dic_list()) "
        }
      },
      "types_to_exclude": [
        "module",
        "function",
        "builtin_function_or_method",
        "instance",
        "_Feature"
      ],
      "window_display": false
    },
    "colab": {
      "provenance": [],
      "include_colab_link": true
    }
  },
  "nbformat": 4,
  "nbformat_minor": 0
}